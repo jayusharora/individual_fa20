{
 "cells": [
  {
   "cell_type": "markdown",
   "metadata": {},
   "source": [
    "COGS 108 - Final Project\n",
    "\n",
    "Overview\n",
    "\n",
    "My project analyzes the relationship between the ratings San Diego Parks receive on Yelp and the amount of crime that is reported nearby the park. My main aim was to test whether a negative relationship between increasing crime and decreasing Yelp reviews, as crime infested areas tend to be less taken care of and a lot more dangerous.\n",
    "\n",
    "Name & GitHub\n",
    "Name: Jayush Arora\n",
    "GitHub Username: jayusharora\n",
    "\n",
    "Research Question\n",
    "Is there any correlation between San Diego crime and San Diego negative Yelp reviews?\n",
    "\n",
    "Background and Prior Work\n",
    "San Diego Parks and Recreation has been in service since 1913, providing San Diego citizens a public place to relax and enjoy the nice weather offered by southern California. The city spends millions of dollars maintaining these parks, keeping them clean and safe for everyone. In fact, a new children's park can take upwards of 8 million dollars of an investment. Crime in San Diego, however, has also gone up over the last few decades, and shows no sign of decline.\n",
    "\n",
    "Yelp is a very common place for people to go to leave reviews, and is the first review search Google shows you on their pages. Hence, Yelp reviews have a large weight on the success or failure of a particular public attraction, such as a park.\n",
    "\n",
    "My study aims to show whether a relationship occurs between crime rates near parks in San Diego and the negative Yelp reviews left on these parks.\n",
    "References (include links):\n",
    "1) https://www.sandiego.gov/park-and-recreation/centers/map\n",
    "2) https://www.sandiego.gov/police/services/statistics\n",
    "Hypothesis\n",
    "I hypothesize that a linear model can explain the correlation between San Diego crime and San Diego negative park reviews on Yelp.\n",
    "Dataset(s)\n",
    "As I was provided with all the data used in this project, I cannot account for how reliable it is.\n",
    "Dataset Name: yelp_SD_Parks.csv\n",
    "Link to the dataset: https://github.com/jayusharora/individual_fa20/blob/master/data/yelp_SD_parks.csv\n",
    "Number of observations: 833\n",
    "Description: This dataset includes information about all San Diego Parks and related centers, including name, address, rating, number of reviews, etc\n",
    "Dataset Name: pd_calls_for_service_2019_datasd.csv\n",
    "Link to the dataset: https://github.com/jayusharora/individual_fa20/blob/master/data/pd_calls_for_service_2019_datasd.csv\n",
    "Number of observations: 590967\n",
    "Description: This dataset includes information about every police call made in San Diego in 2019, including information like location, time, type of call, priority, etc\n",
    "\n",
    "In order to combine these datasets, I had to find out which police calls were located near a San Diego park.\n"
   ]
  },
  {
   "cell_type": "code",
   "execution_count": 1,
   "metadata": {},
   "outputs": [],
   "source": [
    "import numpy as np #for arithmetic operations\n",
    "import pandas as pd #for table manipulations\n",
    "from scipy import stats #for statistical analysis\n",
    "import seaborn as sns #for data visualization\n",
    "import matplotlib.pyplot as plt #for data visualization\n",
    "from sklearn import linear_model\n",
    "from sklearn.metrics import r2_score\n",
    "# is there any correlation between san diego crime and san diego park negative yelp reviews for 2019 and 2020?"
   ]
  },
  {
   "cell_type": "code",
   "execution_count": 2,
   "metadata": {},
   "outputs": [],
   "source": [
    "pd_calls_2019_filepath = \"https://raw.githubusercontent.com/jayusharora/individual_fa20/master/data/pd_calls_for_service_2019_datasd.csv\"\n",
    "pd_calls_2019_df = pd.read_csv(pd_calls_2019_filepath)\n",
    "\n",
    "yelp_reviews_filepath = \"https://raw.githubusercontent.com/jayusharora/individual_fa20/master/data/yelp_SD_parks.csv\"\n",
    "yelp_reviews_df = pd.read_csv(yelp_reviews_filepath)"
   ]
  },
  {
   "cell_type": "code",
   "execution_count": 3,
   "metadata": {
    "scrolled": true
   },
   "outputs": [
    {
     "data": {
      "text/html": [
       "<div>\n",
       "<style scoped>\n",
       "    .dataframe tbody tr th:only-of-type {\n",
       "        vertical-align: middle;\n",
       "    }\n",
       "\n",
       "    .dataframe tbody tr th {\n",
       "        vertical-align: top;\n",
       "    }\n",
       "\n",
       "    .dataframe thead th {\n",
       "        text-align: right;\n",
       "    }\n",
       "</style>\n",
       "<table border=\"1\" class=\"dataframe\">\n",
       "  <thead>\n",
       "    <tr style=\"text-align: right;\">\n",
       "      <th></th>\n",
       "      <th>incident_num</th>\n",
       "      <th>date_time</th>\n",
       "      <th>day_of_week</th>\n",
       "      <th>address_number_primary</th>\n",
       "      <th>address_dir_primary</th>\n",
       "      <th>address_road_primary</th>\n",
       "      <th>address_sfx_primary</th>\n",
       "      <th>address_dir_intersecting</th>\n",
       "      <th>address_road_intersecting</th>\n",
       "      <th>address_sfx_intersecting</th>\n",
       "      <th>call_type</th>\n",
       "      <th>disposition</th>\n",
       "      <th>beat</th>\n",
       "      <th>priority</th>\n",
       "    </tr>\n",
       "  </thead>\n",
       "  <tbody>\n",
       "    <tr>\n",
       "      <th>0</th>\n",
       "      <td>E19010000001</td>\n",
       "      <td>2019-01-01 00:00:01</td>\n",
       "      <td>1</td>\n",
       "      <td>3800</td>\n",
       "      <td>NaN</td>\n",
       "      <td>NATIONAL</td>\n",
       "      <td>AVE</td>\n",
       "      <td>NaN</td>\n",
       "      <td>NaN</td>\n",
       "      <td>NaN</td>\n",
       "      <td>AU1</td>\n",
       "      <td>DUP</td>\n",
       "      <td>441</td>\n",
       "      <td>1</td>\n",
       "    </tr>\n",
       "    <tr>\n",
       "      <th>1</th>\n",
       "      <td>E19010000002</td>\n",
       "      <td>2019-01-01 00:00:04</td>\n",
       "      <td>1</td>\n",
       "      <td>6500</td>\n",
       "      <td>NaN</td>\n",
       "      <td>REFLECTION</td>\n",
       "      <td>DR</td>\n",
       "      <td>NaN</td>\n",
       "      <td>NaN</td>\n",
       "      <td>NaN</td>\n",
       "      <td>415</td>\n",
       "      <td>K</td>\n",
       "      <td>321</td>\n",
       "      <td>2</td>\n",
       "    </tr>\n",
       "    <tr>\n",
       "      <th>2</th>\n",
       "      <td>E19010000003</td>\n",
       "      <td>2019-01-01 00:00:09</td>\n",
       "      <td>1</td>\n",
       "      <td>0</td>\n",
       "      <td>NaN</td>\n",
       "      <td>06TH</td>\n",
       "      <td>AVE</td>\n",
       "      <td>NaN</td>\n",
       "      <td>ISLAND</td>\n",
       "      <td>NaN</td>\n",
       "      <td>FD</td>\n",
       "      <td>K</td>\n",
       "      <td>523</td>\n",
       "      <td>2</td>\n",
       "    </tr>\n",
       "    <tr>\n",
       "      <th>3</th>\n",
       "      <td>E19010000004</td>\n",
       "      <td>2019-01-01 00:00:19</td>\n",
       "      <td>1</td>\n",
       "      <td>0</td>\n",
       "      <td>NaN</td>\n",
       "      <td>VESTA</td>\n",
       "      <td>ST</td>\n",
       "      <td>NaN</td>\n",
       "      <td>MAIN</td>\n",
       "      <td>NaN</td>\n",
       "      <td>AU1</td>\n",
       "      <td>W</td>\n",
       "      <td>511</td>\n",
       "      <td>1</td>\n",
       "    </tr>\n",
       "    <tr>\n",
       "      <th>4</th>\n",
       "      <td>E19010000005</td>\n",
       "      <td>2019-01-01 00:00:31</td>\n",
       "      <td>1</td>\n",
       "      <td>0</td>\n",
       "      <td>NaN</td>\n",
       "      <td>04TH</td>\n",
       "      <td>AVE</td>\n",
       "      <td>NaN</td>\n",
       "      <td>ISLAND</td>\n",
       "      <td>NaN</td>\n",
       "      <td>586</td>\n",
       "      <td>CAN</td>\n",
       "      <td>523</td>\n",
       "      <td>4</td>\n",
       "    </tr>\n",
       "  </tbody>\n",
       "</table>\n",
       "</div>"
      ],
      "text/plain": [
       "   incident_num            date_time  day_of_week  address_number_primary  \\\n",
       "0  E19010000001  2019-01-01 00:00:01            1                    3800   \n",
       "1  E19010000002  2019-01-01 00:00:04            1                    6500   \n",
       "2  E19010000003  2019-01-01 00:00:09            1                       0   \n",
       "3  E19010000004  2019-01-01 00:00:19            1                       0   \n",
       "4  E19010000005  2019-01-01 00:00:31            1                       0   \n",
       "\n",
       "  address_dir_primary address_road_primary address_sfx_primary  \\\n",
       "0                 NaN             NATIONAL                 AVE   \n",
       "1                 NaN           REFLECTION                  DR   \n",
       "2                 NaN                 06TH                 AVE   \n",
       "3                 NaN                VESTA                  ST   \n",
       "4                 NaN                 04TH                 AVE   \n",
       "\n",
       "   address_dir_intersecting address_road_intersecting  \\\n",
       "0                       NaN                       NaN   \n",
       "1                       NaN                       NaN   \n",
       "2                       NaN                    ISLAND   \n",
       "3                       NaN                      MAIN   \n",
       "4                       NaN                    ISLAND   \n",
       "\n",
       "   address_sfx_intersecting call_type disposition  beat  priority  \n",
       "0                       NaN       AU1         DUP   441         1  \n",
       "1                       NaN       415           K   321         2  \n",
       "2                       NaN        FD           K   523         2  \n",
       "3                       NaN       AU1           W   511         1  \n",
       "4                       NaN       586         CAN   523         4  "
      ]
     },
     "execution_count": 3,
     "metadata": {},
     "output_type": "execute_result"
    }
   ],
   "source": [
    "pd_calls_2019_df.head()"
   ]
  },
  {
   "cell_type": "code",
   "execution_count": 4,
   "metadata": {},
   "outputs": [
    {
     "data": {
      "text/html": [
       "<div>\n",
       "<style scoped>\n",
       "    .dataframe tbody tr th:only-of-type {\n",
       "        vertical-align: middle;\n",
       "    }\n",
       "\n",
       "    .dataframe tbody tr th {\n",
       "        vertical-align: top;\n",
       "    }\n",
       "\n",
       "    .dataframe thead th {\n",
       "        text-align: right;\n",
       "    }\n",
       "</style>\n",
       "<table border=\"1\" class=\"dataframe\">\n",
       "  <thead>\n",
       "    <tr style=\"text-align: right;\">\n",
       "      <th></th>\n",
       "      <th>name</th>\n",
       "      <th>address</th>\n",
       "      <th>phone</th>\n",
       "      <th>id</th>\n",
       "      <th>url</th>\n",
       "      <th>rating</th>\n",
       "      <th>review_count</th>\n",
       "      <th>longitude</th>\n",
       "      <th>latitude</th>\n",
       "      <th>is_closed</th>\n",
       "    </tr>\n",
       "  </thead>\n",
       "  <tbody>\n",
       "    <tr>\n",
       "      <th>0</th>\n",
       "      <td>Balboa Park</td>\n",
       "      <td>1549 El Prado San Diego, CA 92101</td>\n",
       "      <td>1.619239e+10</td>\n",
       "      <td>9M_FW_-Ipx93I36w-_ykBg</td>\n",
       "      <td>https://www.yelp.com/biz/balboa-park-san-diego...</td>\n",
       "      <td>5.0</td>\n",
       "      <td>2105</td>\n",
       "      <td>-117.153150</td>\n",
       "      <td>32.734502</td>\n",
       "      <td>False</td>\n",
       "    </tr>\n",
       "    <tr>\n",
       "      <th>1</th>\n",
       "      <td>Civita Park</td>\n",
       "      <td>7960 Civita Blvd San Diego, CA 92108</td>\n",
       "      <td>NaN</td>\n",
       "      <td>3AEHjqNrTmggA6G9VdhQfg</td>\n",
       "      <td>https://www.yelp.com/biz/civita-park-san-diego...</td>\n",
       "      <td>4.5</td>\n",
       "      <td>46</td>\n",
       "      <td>-117.147278</td>\n",
       "      <td>32.778315</td>\n",
       "      <td>False</td>\n",
       "    </tr>\n",
       "    <tr>\n",
       "      <th>2</th>\n",
       "      <td>Waterfront Park</td>\n",
       "      <td>1600 Pacific Hwy San Diego, CA 92101</td>\n",
       "      <td>1.619233e+10</td>\n",
       "      <td>3unbJeYrn1RmInZGmjp80g</td>\n",
       "      <td>https://www.yelp.com/biz/waterfront-park-san-d...</td>\n",
       "      <td>4.5</td>\n",
       "      <td>242</td>\n",
       "      <td>-117.172479</td>\n",
       "      <td>32.721952</td>\n",
       "      <td>False</td>\n",
       "    </tr>\n",
       "    <tr>\n",
       "      <th>3</th>\n",
       "      <td>Trolley Barn Park</td>\n",
       "      <td>Adams Ave And Florida St San Diego, CA 92116</td>\n",
       "      <td>NaN</td>\n",
       "      <td>PvHxIYrmaiFKdWUDTMDzcg</td>\n",
       "      <td>https://www.yelp.com/biz/trolley-barn-park-san...</td>\n",
       "      <td>4.5</td>\n",
       "      <td>102</td>\n",
       "      <td>-117.143789</td>\n",
       "      <td>32.762463</td>\n",
       "      <td>False</td>\n",
       "    </tr>\n",
       "    <tr>\n",
       "      <th>4</th>\n",
       "      <td>Bay View Park</td>\n",
       "      <td>413 1st St Coronado, CA 92118</td>\n",
       "      <td>NaN</td>\n",
       "      <td>6IF4VB9-fkv_F-LBvG8ppQ</td>\n",
       "      <td>https://www.yelp.com/biz/bay-view-park-coronad...</td>\n",
       "      <td>5.0</td>\n",
       "      <td>42</td>\n",
       "      <td>-117.178967</td>\n",
       "      <td>32.701785</td>\n",
       "      <td>False</td>\n",
       "    </tr>\n",
       "  </tbody>\n",
       "</table>\n",
       "</div>"
      ],
      "text/plain": [
       "                name                                       address  \\\n",
       "0        Balboa Park             1549 El Prado San Diego, CA 92101   \n",
       "1        Civita Park          7960 Civita Blvd San Diego, CA 92108   \n",
       "2    Waterfront Park          1600 Pacific Hwy San Diego, CA 92101   \n",
       "3  Trolley Barn Park  Adams Ave And Florida St San Diego, CA 92116   \n",
       "4      Bay View Park                 413 1st St Coronado, CA 92118   \n",
       "\n",
       "          phone                      id  \\\n",
       "0  1.619239e+10  9M_FW_-Ipx93I36w-_ykBg   \n",
       "1           NaN  3AEHjqNrTmggA6G9VdhQfg   \n",
       "2  1.619233e+10  3unbJeYrn1RmInZGmjp80g   \n",
       "3           NaN  PvHxIYrmaiFKdWUDTMDzcg   \n",
       "4           NaN  6IF4VB9-fkv_F-LBvG8ppQ   \n",
       "\n",
       "                                                 url  rating  review_count  \\\n",
       "0  https://www.yelp.com/biz/balboa-park-san-diego...     5.0          2105   \n",
       "1  https://www.yelp.com/biz/civita-park-san-diego...     4.5            46   \n",
       "2  https://www.yelp.com/biz/waterfront-park-san-d...     4.5           242   \n",
       "3  https://www.yelp.com/biz/trolley-barn-park-san...     4.5           102   \n",
       "4  https://www.yelp.com/biz/bay-view-park-coronad...     5.0            42   \n",
       "\n",
       "    longitude   latitude  is_closed  \n",
       "0 -117.153150  32.734502      False  \n",
       "1 -117.147278  32.778315      False  \n",
       "2 -117.172479  32.721952      False  \n",
       "3 -117.143789  32.762463      False  \n",
       "4 -117.178967  32.701785      False  "
      ]
     },
     "execution_count": 4,
     "metadata": {},
     "output_type": "execute_result"
    }
   ],
   "source": [
    "yelp_reviews_df.head()"
   ]
  },
  {
   "cell_type": "code",
   "execution_count": 5,
   "metadata": {},
   "outputs": [
    {
     "data": {
      "text/plain": [
       "Index(['name', 'address', 'phone', 'id', 'url', 'rating', 'review_count',\n",
       "       'longitude', 'latitude', 'is_closed'],\n",
       "      dtype='object')"
      ]
     },
     "execution_count": 5,
     "metadata": {},
     "output_type": "execute_result"
    }
   ],
   "source": [
    "yelp_reviews_df.columns\n",
    "#interested in: name, address, rating, review_count, is_closed?\n",
    "#conditions:\n",
    "#name: parks specifically\n",
    "#address: see if it matches any address in the pd databases"
   ]
  },
  {
   "cell_type": "code",
   "execution_count": 6,
   "metadata": {},
   "outputs": [
    {
     "ename": "NameError",
     "evalue": "name 'pd_calls_2020_df' is not defined",
     "output_type": "error",
     "traceback": [
      "\u001b[0;31m---------------------------------------------------------------------------\u001b[0m",
      "\u001b[0;31mNameError\u001b[0m                                 Traceback (most recent call last)",
      "\u001b[0;32m<ipython-input-6-1638193fbdda>\u001b[0m in \u001b[0;36m<module>\u001b[0;34m\u001b[0m\n\u001b[1;32m      1\u001b[0m \u001b[0mpd_calls_2019_df\u001b[0m\u001b[0;34m.\u001b[0m\u001b[0mcolumns\u001b[0m\u001b[0;34m\u001b[0m\u001b[0;34m\u001b[0m\u001b[0m\n\u001b[0;32m----> 2\u001b[0;31m \u001b[0mpd_calls_2020_df\u001b[0m\u001b[0;34m.\u001b[0m\u001b[0mcolumns\u001b[0m\u001b[0;34m\u001b[0m\u001b[0;34m\u001b[0m\u001b[0m\n\u001b[0m\u001b[1;32m      3\u001b[0m \u001b[0;31m#interested in: 'address_road_primary', 'address_sfx_primary'\u001b[0m\u001b[0;34m\u001b[0m\u001b[0;34m\u001b[0m\u001b[0;34m\u001b[0m\u001b[0m\n",
      "\u001b[0;31mNameError\u001b[0m: name 'pd_calls_2020_df' is not defined"
     ]
    }
   ],
   "source": [
    "pd_calls_2019_df.columns\n",
    "pd_calls_2020_df.columns\n",
    "#interested in: 'address_road_primary', 'address_sfx_primary'"
   ]
  },
  {
   "cell_type": "code",
   "execution_count": null,
   "metadata": {},
   "outputs": [],
   "source": [
    "pd_calls_2019_df.drop(columns = ['incident_num', 'date_time', 'day_of_week', 'address_number_primary',\n",
    "       'address_dir_primary', 'address_dir_intersecting', 'address_road_intersecting',\n",
    "       'address_sfx_intersecting', 'call_type', 'disposition', 'beat',\n",
    "       'priority'], inplace = True)"
   ]
  },
  {
   "cell_type": "code",
   "execution_count": null,
   "metadata": {},
   "outputs": [],
   "source": [
    "yelp_reviews_df.dropna()\n",
    "pd_calls_2019_df = pd_calls_2019_df.dropna()"
   ]
  },
  {
   "cell_type": "code",
   "execution_count": null,
   "metadata": {},
   "outputs": [],
   "source": [
    "pd_calls_2019_df[\"address_road_primary\"] = pd_calls_2019_df[\"address_road_primary\"].str.lower()\n",
    "pd_calls_2019_df[\"address_sfx_primary\"] = pd_calls_2019_df[\"address_sfx_primary\"].str.lower()"
   ]
  },
  {
   "cell_type": "code",
   "execution_count": null,
   "metadata": {},
   "outputs": [],
   "source": [
    "pd_calls_2019_df.head()"
   ]
  },
  {
   "cell_type": "code",
   "execution_count": null,
   "metadata": {},
   "outputs": [],
   "source": [
    "#function to get rid of all yelp reviews that are not about parks\n",
    "\n",
    "parks_df = yelp_reviews_df[yelp_reviews_df[\"name\"].str.contains(\"Park\")]\n",
    "parks_df.drop(columns = [\"phone\", \"id\", \"url\", \"longitude\", \"latitude\", \"is_closed\"], inplace = True)"
   ]
  },
  {
   "cell_type": "code",
   "execution_count": null,
   "metadata": {},
   "outputs": [],
   "source": [
    "parks_df.head()"
   ]
  },
  {
   "cell_type": "code",
   "execution_count": null,
   "metadata": {
    "scrolled": true
   },
   "outputs": [],
   "source": [
    "parks_df[\"police_incidents\"] = 0\n",
    "parks_df = parks_df.astype({\"name\": str, \"address\" : str, \"rating\": float, \"review_count\": int})"
   ]
  },
  {
   "cell_type": "code",
   "execution_count": null,
   "metadata": {},
   "outputs": [],
   "source": [
    "pd2019_df = pd_calls_2019_df[\"address_road_primary\"] + \" \" + pd_calls_2019_df[\"address_sfx_primary\"]\n",
    "pd2019_df = pd.DataFrame(pd2019_df, columns = [\"address\"])"
   ]
  },
  {
   "cell_type": "code",
   "execution_count": null,
   "metadata": {},
   "outputs": [],
   "source": [
    "parks_df[\"address\"] = parks_df[\"address\"].str.lower()"
   ]
  },
  {
   "cell_type": "code",
   "execution_count": null,
   "metadata": {
    "scrolled": true
   },
   "outputs": [],
   "source": [
    "pd.set_option(\"display.max_rows\", None, \"display.max_columns\", None)\n",
    "pd2019_df = pd2019_df.astype(str)\n",
    "parks_df.head()"
   ]
  },
  {
   "cell_type": "code",
   "execution_count": null,
   "metadata": {},
   "outputs": [],
   "source": [
    "for i in pd2019_df[\"address\"]:\n",
    "    street_count = parks_df[\"address\"].str.contains(i)\n",
    "    if len(parks_df[street_count].index) < 1:\n",
    "        pass\n",
    "    else:\n",
    "        parks_df[\"police_incidents\"][parks_df[street_count].index[0]] = sum(street_count == True)\n",
    "    print(i, sum(street_count == True))"
   ]
  },
  {
   "cell_type": "code",
   "execution_count": null,
   "metadata": {},
   "outputs": [],
   "source": [
    "parks_df"
   ]
  },
  {
   "cell_type": "code",
   "execution_count": null,
   "metadata": {},
   "outputs": [],
   "source": [
    "# model the data\n",
    "regr = linear_model.LinearRegression()\n",
    "x = np.asanyarray(parks_df[[\"police_incidents\"]])\n",
    "y = np.asanyarray(parks_df[[\"rating\"]])\n",
    "regr.fit(x, y)\n",
    "# the coefficients\n",
    "print(\"Coefficients: \", regr.coef_)\n",
    "print(\"Intercept: \", regr.intercept_)"
   ]
  },
  {
   "cell_type": "code",
   "execution_count": null,
   "metadata": {},
   "outputs": [],
   "source": [
    "y_hat = regr.predict(x)\n",
    "\n",
    "print(\"Variance score: %.95f\" % regr.score(x, y))\n",
    "print(\"Mean absolute error: %.95f\" % np.mean(np.absolute(y_hat - y)))\n",
    "print(\"Residual sum of squares (MSE): %.95f\" % np.mean((y_hat - y) ** 2))\n",
    "print(\"R2-score: %.95f\" % r2_score(y_hat, y))"
   ]
  },
  {
   "cell_type": "code",
   "execution_count": null,
   "metadata": {},
   "outputs": [],
   "source": [
    "plt.scatter(x, y)"
   ]
  },
  {
   "cell_type": "code",
   "execution_count": null,
   "metadata": {},
   "outputs": [],
   "source": [
    "sns.lineplot(data=parks_df, x=\"police_incidents\", y=\"rating\")"
   ]
  },
  {
   "cell_type": "code",
   "execution_count": null,
   "metadata": {
    "scrolled": false
   },
   "outputs": [],
   "source": [
    "sns.pairplot(parks_df)"
   ]
  },
  {
   "cell_type": "markdown",
   "metadata": {},
   "source": [
    "Ethics & Privacy\n",
    "As this project did not require any personal information about any people, there was no use of any personal or harmful information, which keeps this study ethical and private. This information could be used unethically to figure out which areas of San Diego receive less police activity, but that is unrelated to the study topic.\n",
    "\n",
    "Conclusion & Discussion\n",
    "To restate my question, I analyzed (using a linear model) whether there is a correlation between the crime in San Diego and the negative Yelp reviews on San Diego Parks. Given our R^2 value, my results are not statistically significant. A linear model would not be the best to model this relationship. More features are required for a different statistical model such as multi-linear regression to provide further evidence of a relationship between these two variables.\n"
   ]
  },
  {
   "cell_type": "code",
   "execution_count": null,
   "metadata": {},
   "outputs": [],
   "source": []
  }
 ],
 "metadata": {
  "kernelspec": {
   "display_name": "Python 3",
   "language": "python",
   "name": "python3"
  },
  "language_info": {
   "codemirror_mode": {
    "name": "ipython",
    "version": 3
   },
   "file_extension": ".py",
   "mimetype": "text/x-python",
   "name": "python",
   "nbconvert_exporter": "python",
   "pygments_lexer": "ipython3",
   "version": "3.7.6"
  }
 },
 "nbformat": 4,
 "nbformat_minor": 4
}
